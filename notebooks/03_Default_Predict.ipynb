{
 "cells": [
  {
   "cell_type": "markdown",
   "id": "78848c30",
   "metadata": {},
   "source": [
    "| <div align=\"left\"> <a href=\"https://github.com/marashot96/Credit-Products-Analysis/blob/main/notebooks/Navigator.md\">🔙 Назад к Jupyter-notebooks </a>  </div> | | <div align=\"center\">  <a href=\"https://github.com/marashot96/portfolio/blob/main/README.md#-реализованные-проекты\">🔙 Мое полное портфолио </a> </div> | | <div align=\"right\"> <a href=\"https://github.com/marashot96/Credit-Products-Analysis?tab=readme-ov-file#-czech-bank-project--\">🔙 Назад к описанию проекта </a>  </div> |\n",
    "| ---- | -------- | ----- | ---------------- | ------ |\n",
    "\n",
    "# <div align=\"center\"> Модель предсказания дефолта по кредиту </div>\n",
    "\n",
    "В этом ноутбуке обучается простая модель машинного обучения, предсказывающая вероятность дефолта клиента на основе информации о кредите, клиенте и активности.\n",
    "\n",
    "Целевая переменная — статус кредита: `B` (невыплачен вовремя) — считается дефолтом."
   ]
  },
  {
   "cell_type": "code",
   "execution_count": 1,
   "id": "5c57cf47",
   "metadata": {},
   "outputs": [
    {
     "name": "stderr",
     "output_type": "stream",
     "text": [
      "/opt/anaconda3/lib/python3.9/site-packages/IPython/core/interactiveshell.py:3444: DtypeWarning: Columns (8) have mixed types.Specify dtype option on import or set low_memory=False.\n",
      "  exec(code_obj, self.user_global_ns, self.user_ns)\n"
     ]
    }
   ],
   "source": [
    "import pandas as pd\n",
    "import numpy as np\n",
    "import matplotlib.pyplot as plt\n",
    "import seaborn as sns\n",
    "\n",
    "from sklearn.model_selection import train_test_split\n",
    "from sklearn.linear_model import LogisticRegression\n",
    "from sklearn.metrics import classification_report, confusion_matrix, roc_auc_score\n",
    "\n",
    "# Загрузка данных\n",
    "client = pd.read_csv('CLIENT.csv', sep=';')\n",
    "disp = pd.read_csv('DISP.csv', sep=';')\n",
    "account = pd.read_csv('ACCOUNT.csv', sep=';')\n",
    "loan = pd.read_csv('LOAN.csv', sep=';')\n",
    "trans = pd.read_csv('TRANS.csv', sep=';')"
   ]
  },
  {
   "cell_type": "markdown",
   "id": "cc2444b5",
   "metadata": {},
   "source": [
    "## Подготовка датасета\n",
    "\n",
    "Формируем обучающий набор, объединяя данные о клиенте, счёте и кредите. Добавим признаки возраста, размера кредита, активности и средней транзакции."
   ]
  },
  {
   "cell_type": "code",
   "execution_count": 2,
   "id": "6df5a15d",
   "metadata": {},
   "outputs": [],
   "source": [
    "# Возраст клиента\n",
    "client['birth_year'] = client['birth_number'] // 10000 + 1900\n",
    "client['age'] = 1999 - client['birth_year']\n",
    "\n",
    "# Инфо по кредитам\n",
    "loan_acc = loan.merge(account[['account_id', 'district_id']], on='account_id', how='left')\n",
    "loan_disp = disp[disp['type'] == 'OWNER'].merge(loan_acc, on='account_id', how='right')\n",
    "loan_data = loan_disp.merge(client, on='client_id', how='left')\n",
    "\n",
    "# Активность по транзакциям\n",
    "trans_count = trans.groupby('account_id')['amount'].agg(['count', 'mean']).reset_index()\n",
    "trans_count.columns = ['account_id', 'num_trans', 'avg_amount']\n",
    "loan_data = loan_data.merge(trans_count, on='account_id', how='left')\n",
    "\n",
    "# Заполнение пропусков\n",
    "loan_data['num_trans'] = loan_data['num_trans'].fillna(0)\n",
    "loan_data['avg_amount'] = loan_data['avg_amount'].fillna(0)\n",
    "\n",
    "# Целевая переменная\n",
    "loan_data['target'] = (loan_data['status'] == 'B').astype(int)\n"
   ]
  },
  {
   "cell_type": "markdown",
   "id": "2ae541cc",
   "metadata": {},
   "source": [
    "## Обучение модели логистической регрессии\n",
    "\n",
    "Выбираем числовые признаки и делим выборку на обучающую и тестовую."
   ]
  },
  {
   "cell_type": "code",
   "execution_count": 3,
   "id": "31357bca",
   "metadata": {},
   "outputs": [],
   "source": [
    "features = ['age', 'amount', 'duration', 'payments', 'num_trans', 'avg_amount']\n",
    "X = loan_data[features]\n",
    "y = loan_data['target']\n",
    "\n",
    "X_train, X_test, y_train, y_test = train_test_split(X, y, stratify=y, test_size=0.25, random_state=42)"
   ]
  },
  {
   "cell_type": "markdown",
   "id": "df368279",
   "metadata": {},
   "source": [
    "## Оценка точности модели\n",
    "\n",
    "Обучаем логистическую регрессию и смотрим на качество классификации.\n"
   ]
  },
  {
   "cell_type": "code",
   "execution_count": 4,
   "id": "96a4e6ae",
   "metadata": {},
   "outputs": [
    {
     "name": "stdout",
     "output_type": "stream",
     "text": [
      "Confusion Matrix:\n",
      " [[163   0]\n",
      " [  8   0]]\n",
      "\n",
      "Classification Report:\n",
      "               precision    recall  f1-score   support\n",
      "\n",
      "           0       0.95      1.00      0.98       163\n",
      "           1       0.00      0.00      0.00         8\n",
      "\n",
      "    accuracy                           0.95       171\n",
      "   macro avg       0.48      0.50      0.49       171\n",
      "weighted avg       0.91      0.95      0.93       171\n",
      "\n",
      "\n",
      "ROC-AUC: 0.5628834355828221\n"
     ]
    },
    {
     "name": "stderr",
     "output_type": "stream",
     "text": [
      "/opt/anaconda3/lib/python3.9/site-packages/sklearn/metrics/_classification.py:1248: UndefinedMetricWarning: Precision and F-score are ill-defined and being set to 0.0 in labels with no predicted samples. Use `zero_division` parameter to control this behavior.\n",
      "  _warn_prf(average, modifier, msg_start, len(result))\n",
      "/opt/anaconda3/lib/python3.9/site-packages/sklearn/metrics/_classification.py:1248: UndefinedMetricWarning: Precision and F-score are ill-defined and being set to 0.0 in labels with no predicted samples. Use `zero_division` parameter to control this behavior.\n",
      "  _warn_prf(average, modifier, msg_start, len(result))\n",
      "/opt/anaconda3/lib/python3.9/site-packages/sklearn/metrics/_classification.py:1248: UndefinedMetricWarning: Precision and F-score are ill-defined and being set to 0.0 in labels with no predicted samples. Use `zero_division` parameter to control this behavior.\n",
      "  _warn_prf(average, modifier, msg_start, len(result))\n"
     ]
    }
   ],
   "source": [
    "model = LogisticRegression(max_iter=1000)\n",
    "model.fit(X_train, y_train)\n",
    "\n",
    "y_pred = model.predict(X_test)\n",
    "y_proba = model.predict_proba(X_test)[:, 1]\n",
    "\n",
    "# Метрики\n",
    "print(\"Confusion Matrix:\\n\", confusion_matrix(y_test, y_pred))\n",
    "print(\"\\nClassification Report:\\n\", classification_report(y_test, y_pred))\n",
    "print(\"\\nROC-AUC:\", roc_auc_score(y_test, y_proba))"
   ]
  },
  {
   "cell_type": "markdown",
   "id": "e6fee8e5",
   "metadata": {},
   "source": [
    "## Важность признаков\n",
    "\n",
    "Анализ коэффициентов модели — какие признаки влияют на вероятность дефолта.\n"
   ]
  },
  {
   "cell_type": "code",
   "execution_count": 5,
   "id": "ff3f6ae6",
   "metadata": {},
   "outputs": [
    {
     "data": {
      "image/png": "[encoded data removed]",
      "text/plain": [
       "<Figure size 576x360 with 1 Axes>"
      ]
     },
     "metadata": {
      "needs_background": "light"
     },
     "output_type": "display_data"
    }
   ],
   "source": [
    "coeff_df = pd.DataFrame({'Feature': features, 'Coefficient': model.coef_[0]})\n",
    "coeff_df = coeff_df.sort_values(by='Coefficient', ascending=False)\n",
    "\n",
    "plt.figure(figsize=(8, 5))\n",
    "sns.barplot(x='Coefficient', y='Feature', data=coeff_df, palette='coolwarm')\n",
    "plt.title('Коэффициенты логистической регрессии')\n",
    "plt.xlabel('Влияние на вероятность дефолта')\n",
    "plt.ylabel('Признак')\n",
    "plt.tight_layout()\n",
    "plt.show()"
   ]
  },
  {
   "cell_type": "markdown",
   "id": "c4045f67",
   "metadata": {},
   "source": [
    "## Выводы\n",
    "\n",
    "- Модель выявляет клиентов с повышенным риском дефолта на основе размера кредита, активности и возраста.\n",
    "- Важнейшие признаки: `duration`, `age`.\n",
    "- Можно расширить модель, добавив категориальные признаки (частота, регион и т.п.).\n",
    "\n",
    "---\n",
    "\n",
    "## 💼 Контактная информация\n",
    "Если вы хотите обсудить различные задачи, запросы или проекты, предложить кейс или сотрудничество — обязательно напишите мне!\n",
    "\n",
    "- 📫 [t.me/marashot96](https://t.me/marashot96)\n",
    "- 🌐 [marashot96@ya.ru](mailto:marashot96@ya.ru)\n",
    "\n",
    "| <div align=\"left\"> <a href=\"https://github.com/marashot96/Credit-Products-Analysis/blob/main/notebooks/Navigator.md\">🔙 Назад к Jupyter-notebooks </a>  </div> | | <div align=\"center\">  <a href=\"https://github.com/marashot96/portfolio/blob/main/README.md#-реализованные-проекты\">🔙 Мое полное портфолио </a> </div> | | <div align=\"right\"> <a href=\"https://github.com/marashot96/Credit-Products-Analysis?tab=readme-ov-file#-czech-bank-project--\">🔙 Назад к описанию проекта </a>  </div> |\n",
    "| ---- | -------- | ----- | ---------------- | ------ |\n"
   ]
  }
 ],
 "metadata": {
  "kernelspec": {
   "display_name": "Python 3 (ipykernel)",
   "language": "python",
   "name": "python3"
  },
  "language_info": {
   "codemirror_mode": {
    "name": "ipython",
    "version": 3
   },
   "file_extension": ".py",
   "mimetype": "text/x-python",
   "name": "python",
   "nbconvert_exporter": "python",
   "pygments_lexer": "ipython3",
   "version": "3.9.7"
  }
 },
 "nbformat": 4,
 "nbformat_minor": 5
}
