{
 "cells": [
  {
   "cell_type": "markdown",
   "id": "8ae8fdd8",
   "metadata": {},
   "source": [
    "| <div align=\"left\"> <a href=\"https://github.com/marashot96/Credit-Products-Analysis/blob/main/notebooks/Navigator.md\">🔙 Назад к Jupyter-notebooks </a>  </div> | | <div align=\"center\">  <a href=\"https://github.com/marashot96/portfolio/blob/main/README.md#-реализованные-проекты\">🔙 Мое полное портфолио </a> </div> | | <div align=\"right\"> <a href=\"https://github.com/marashot96/Credit-Products-Analysis?tab=readme-ov-file#-czech-bank-project--\">🔙 Назад к описанию проекта </a>  </div> |\n",
    "| ---- | -------- | ----- | ---------------- | ------ |\n",
    "\n",
    "# <div align=\"center\">  Сегментация клиентов </div>\n",
    "\n",
    "В этом ноутбуке проводится сегментация клиентов банка по ключевым признакам:\n",
    "\n",
    "- По возрасту\n",
    "- По активности использования счёта\n",
    "- По статусу и размеру кредита\n",
    "\n",
    "Цель — выделить поведенческие и финансовые когорты клиентов для дальнейшего анализа."
   ]
  },
  {
   "cell_type": "code",
   "execution_count": 5,
   "id": "834c60d7",
   "metadata": {},
   "outputs": [
    {
     "name": "stderr",
     "output_type": "stream",
     "text": [
      "/opt/anaconda3/lib/python3.9/site-packages/IPython/core/interactiveshell.py:3444: DtypeWarning: Columns (8) have mixed types.Specify dtype option on import or set low_memory=False.\n",
      "  exec(code_obj, self.user_global_ns, self.user_ns)\n"
     ]
    },
    {
     "data": {
      "text/html": [
       "<div>\n",
       "<style scoped>\n",
       "    .dataframe tbody tr th:only-of-type {\n",
       "        vertical-align: middle;\n",
       "    }\n",
       "\n",
       "    .dataframe tbody tr th {\n",
       "        vertical-align: top;\n",
       "    }\n",
       "\n",
       "    .dataframe thead th {\n",
       "        text-align: right;\n",
       "    }\n",
       "</style>\n",
       "<table border=\"1\" class=\"dataframe\">\n",
       "  <thead>\n",
       "    <tr style=\"text-align: right;\">\n",
       "      <th></th>\n",
       "      <th>client_id</th>\n",
       "      <th>birth_number</th>\n",
       "      <th>district_id</th>\n",
       "    </tr>\n",
       "  </thead>\n",
       "  <tbody>\n",
       "    <tr>\n",
       "      <th>0</th>\n",
       "      <td>1</td>\n",
       "      <td>706213</td>\n",
       "      <td>18</td>\n",
       "    </tr>\n",
       "    <tr>\n",
       "      <th>1</th>\n",
       "      <td>2</td>\n",
       "      <td>450204</td>\n",
       "      <td>1</td>\n",
       "    </tr>\n",
       "    <tr>\n",
       "      <th>2</th>\n",
       "      <td>3</td>\n",
       "      <td>406009</td>\n",
       "      <td>1</td>\n",
       "    </tr>\n",
       "    <tr>\n",
       "      <th>3</th>\n",
       "      <td>4</td>\n",
       "      <td>561201</td>\n",
       "      <td>5</td>\n",
       "    </tr>\n",
       "  </tbody>\n",
       "</table>\n",
       "</div>"
      ],
      "text/plain": [
       "   client_id  birth_number  district_id\n",
       "0          1        706213           18\n",
       "1          2        450204            1\n",
       "2          3        406009            1\n",
       "3          4        561201            5"
      ]
     },
     "execution_count": 5,
     "metadata": {},
     "output_type": "execute_result"
    }
   ],
   "source": [
    "import pandas as pd\n",
    "import numpy as np\n",
    "import matplotlib.pyplot as plt\n",
    "import seaborn as sns\n",
    "\n",
    "plt.style.use('seaborn-whitegrid')\n",
    "\n",
    "# Загрузка подготовленных таблиц\n",
    "client = pd.read_csv('CLIENT.csv', sep=';')\n",
    "disp = pd.read_csv('DISP.csv', sep=';')\n",
    "account = pd.read_csv('ACCOUNT.csv', sep=';')\n",
    "loan = pd.read_csv('LOAN.csv', sep=';')\n",
    "trans = pd.read_csv('TRANS.csv', sep=';')\n",
    "\n",
    "client.head(4)"
   ]
  },
  {
   "cell_type": "markdown",
   "id": "8f76af9a",
   "metadata": {},
   "source": [
    "## Сегментация по возрасту клиента\n",
    "\n",
    "Возраст рассчитывается на основе `birth_number`. \n",
    "Затем клиенты группируются по возрастным категориям."
   ]
  },
  {
   "cell_type": "code",
   "execution_count": 7,
   "id": "49cce660",
   "metadata": {},
   "outputs": [
    {
     "data": {
      "image/png": "[encoded data removed]",
      "text/plain": [
       "<Figure size 576x360 with 1 Axes>"
      ]
     },
     "metadata": {},
     "output_type": "display_data"
    }
   ],
   "source": [
    "# Расчёт возраста (условный, так как нет даты отсчёта)\n",
    "client['birth_year'] = client['birth_number'] // 10000 + 1900\n",
    "client['gender'] = client['birth_number'] % 10000 // 1000 > 50\n",
    "client['age'] = 1999 - client['birth_year']  # Используем условный текущий год\n",
    "\n",
    "# Группы по возрасту\n",
    "bins = [0, 25, 35, 50, 65, 100]\n",
    "labels = ['<25', '25–35', '35–50', '50–65', '65+']\n",
    "client['age_group'] = pd.cut(client['age'], bins=bins, labels=labels)\n",
    "\n",
    "age_counts = client['age_group'].value_counts().sort_index()\n",
    "\n",
    "# Визуализация\n",
    "plt.figure(figsize=(8, 5))\n",
    "sns.barplot(x=age_counts.index, y=age_counts.values, palette='Blues_d')\n",
    "plt.title('Распределение клиентов по возрастным группам')\n",
    "plt.xlabel('Возрастная группа')\n",
    "plt.ylabel('Количество клиентов')\n",
    "plt.show()"
   ]
  },
  {
   "cell_type": "markdown",
   "id": "fbeb048f",
   "metadata": {},
   "source": [
    "## Сегментация по активности клиентов\n",
    "\n",
    "Для каждого счёта рассчитывается число транзакций. Далее определяется, насколько активно клиент использует счёт."
   ]
  },
  {
   "cell_type": "code",
   "execution_count": 8,
   "id": "4a77b62c",
   "metadata": {},
   "outputs": [
    {
     "data": {
      "image/png": "[encoded data removed]",
      "text/plain": [
       "<Figure size 576x360 with 1 Axes>"
      ]
     },
     "metadata": {},
     "output_type": "display_data"
    }
   ],
   "source": [
    "# Число транзакций на счёт\n",
    "trans_count = trans.groupby('account_id')['trans_id'].count().reset_index()\n",
    "trans_count.columns = ['account_id', 'num_trans']\n",
    "\n",
    "# Присоединение к клиенту через DISP\n",
    "disp_acc = disp.merge(trans_count, on='account_id', how='left')\n",
    "client_activity = disp_acc.merge(client, on='client_id')\n",
    "client_activity['num_trans'] = client_activity['num_trans'].fillna(0)\n",
    "\n",
    "# Сегментация\n",
    "activity_bins = [0, 10, 50, 200, 10000]\n",
    "activity_labels = ['Очень низкая', 'Низкая', 'Средняя', 'Высокая']\n",
    "client_activity['activity_level'] = pd.cut(client_activity['num_trans'], \n",
    "                                           bins=activity_bins, labels=activity_labels)\n",
    "\n",
    "# Визуализация\n",
    "plt.figure(figsize=(8, 5))\n",
    "sns.countplot(x='activity_level', data=client_activity, palette='Greens_d')\n",
    "plt.title('Активность клиентов по количеству транзакций')\n",
    "plt.xlabel('Уровень активности')\n",
    "plt.ylabel('Число клиентов')\n",
    "plt.show()"
   ]
  },
  {
   "cell_type": "markdown",
   "id": "662d9e2d",
   "metadata": {},
   "source": [
    "## Сегментация по кредитам\n",
    "\n",
    "Анализируются клиенты, имеющие кредиты. Сегментация проводится по сумме и статусу погашения кредита."
   ]
  },
  {
   "cell_type": "code",
   "execution_count": 9,
   "id": "c31424a9",
   "metadata": {},
   "outputs": [
    {
     "data": {
      "image/png": "[encoded data removed]",
      "text/plain": [
       "<Figure size 720x360 with 1 Axes>"
      ]
     },
     "metadata": {},
     "output_type": "display_data"
    }
   ],
   "source": [
    "# Добавление информации о кредите к клиенту\n",
    "loan_acc = loan.merge(account, on='account_id', how='left')\n",
    "loan_disp = disp.merge(loan_acc, on='account_id', how='right')\n",
    "loan_client = loan_disp.merge(client, on='client_id')\n",
    "\n",
    "# Удалим ненужные типы (например, не владельцев)\n",
    "loan_client = loan_client[loan_client['type'] == 'OWNER']\n",
    "\n",
    "# Сегментация по сумме\n",
    "loan_bins = [0, 20000, 50000, 100000, 500000]\n",
    "loan_labels = ['<20k', '20–50k', '50–100k', '100k+']\n",
    "loan_client['loan_size'] = pd.cut(loan_client['amount'], bins=loan_bins, labels=loan_labels)\n",
    "\n",
    "# Визуализация\n",
    "plt.figure(figsize=(10, 5))\n",
    "sns.countplot(x='loan_size', hue='status', data=loan_client, palette='pastel')\n",
    "plt.title('Сегментация по размеру кредита и статусу')\n",
    "plt.xlabel('Размер кредита')\n",
    "plt.ylabel('Число клиентов')\n",
    "plt.legend(title='Статус')\n",
    "plt.show()"
   ]
  },
  {
   "cell_type": "markdown",
   "id": "5c8adf29",
   "metadata": {},
   "source": [
    "## Выводы\n",
    "\n",
    "- Преобладают клиенты в возрастных группах 35–50 лет.\n",
    "- Большинство клиентов имеют низкую или среднюю активность.\n",
    "- Кредиты до 50k — самые частые, и именно в этом диапазоне чаще встречаются просрочки.\n",
    "- Полученные сегменты могут использоваться для оценки рисков, выявления целевых аудиторий и персонализации предложений.\n",
    "\n",
    "---\n",
    "\n",
    "## 💼 Контактная информация\n",
    "Если вы хотите обсудить различные задачи, запросы или проекты, предложить кейс или сотрудничество — обязательно напишите мне!\n",
    "\n",
    "- 📫 [t.me/marashot96](https://t.me/marashot96)\n",
    "- 🌐 [marashot96@ya.ru](mailto:marashot96@ya.ru)\n",
    "\n",
    "| <div align=\"left\"> <a href=\"https://github.com/marashot96/Credit-Products-Analysis/blob/main/notebooks/Navigator.md\">🔙 Назад к Jupyter-notebooks </a>  </div> | | <div align=\"center\">  <a href=\"https://github.com/marashot96/portfolio/blob/main/README.md#-реализованные-проекты\">🔙 Мое полное портфолио </a> </div> | | <div align=\"right\"> <a href=\"https://github.com/marashot96/Credit-Products-Analysis?tab=readme-ov-file#-czech-bank-project--\">🔙 Назад к описанию проекта </a>  </div> |\n",
    "| ---- | -------- | ----- | ---------------- | ------ |"
   ]
  }
 ],
 "metadata": {
  "kernelspec": {
   "display_name": "Python 3 (ipykernel)",
   "language": "python",
   "name": "python3"
  },
  "language_info": {
   "codemirror_mode": {
    "name": "ipython",
    "version": 3
   },
   "file_extension": ".py",
   "mimetype": "text/x-python",
   "name": "python",
   "nbconvert_exporter": "python",
   "pygments_lexer": "ipython3",
   "version": "3.9.7"
  }
 },
 "nbformat": 4,
 "nbformat_minor": 5
}
