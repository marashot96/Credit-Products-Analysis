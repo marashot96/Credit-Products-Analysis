{
 "cells": [
  {
   "cell_type": "markdown",
   "id": "0841e037",
   "metadata": {},
   "source": [
    "| <div align=\"left\"> <a href=\"https://github.com/marashot96/Credit-Products-Analysis/blob/main/notebooks/Navigator.md\">🔙 Назад к Jupyter-notebooks </a>  </div> | | <div align=\"center\">  <a href=\"https://github.com/marashot96/portfolio/blob/main/README.md#-реализованные-проекты\">🔙 Мое полное портфолио </a> </div> | | <div align=\"right\"> <a href=\"https://github.com/marashot96/Credit-Products-Analysis?tab=readme-ov-file#-czech-bank-project--\">🔙 Назад к описанию проекта </a>  </div> |\n",
    "| ---- | -------- | ----- | ---------------- | ------ |\n",
    "\n",
    "# <div align=\"center\"> A/B Тест: Влияние суммы кредита на вероятность дефолта </div>\n",
    "\n",
    "В этом ноутбуке мы проведем A/B тест, чтобы проверить, влияет ли сумма кредита на вероятность его невозврата (дефолта).\n"
   ]
  },
  {
   "cell_type": "code",
   "execution_count": 1,
   "id": "a80a8384",
   "metadata": {},
   "outputs": [],
   "source": [
    "# Импорт библиотек\n",
    "import pandas as pd\n",
    "import numpy as np\n",
    "from scipy.stats import chi2_contingency\n",
    "import matplotlib.pyplot as plt\n",
    "import seaborn as sns\n",
    "\n",
    "plt.style.use('seaborn-whitegrid')\n",
    "\n",
    "# Загрузка данных о кредитах\n",
    "loans = pd.read_csv('LOAN.csv', sep=';')\n",
    "\n",
    "# Фильтрация только завершённых кредитов\n",
    "loans = loans[loans['status'].isin(['A', 'B', 'C', 'D'])]  # A - ok, B/C/D - дефолт\n"
   ]
  },
  {
   "cell_type": "markdown",
   "id": "6754b8cd",
   "metadata": {},
   "source": [
    "## Формирование групп для A/B теста\n"
   ]
  },
  {
   "cell_type": "code",
   "execution_count": 2,
   "id": "a9fea79e",
   "metadata": {},
   "outputs": [],
   "source": [
    "# Медианная сумма кредита\n",
    "threshold = loans['amount'].median()\n",
    "\n",
    "# Группировка клиентов по сумме кредита\n",
    "loans['group'] = np.where(loans['amount'] <= threshold, 'A', 'B')\n",
    "\n",
    "# Метка дефолта: 1 — дефолт, 0 — выплачен\n",
    "loans['is_default'] = loans['status'].isin(['B', 'C', 'D']).astype(int)"
   ]
  },
  {
   "cell_type": "markdown",
   "id": "a1887b4a",
   "metadata": {},
   "source": [
    "## Сводная таблица для критерия хи-квадрат\n"
   ]
  },
  {
   "cell_type": "code",
   "execution_count": 3,
   "id": "29032386",
   "metadata": {},
   "outputs": [
    {
     "data": {
      "text/html": [
       "<div>\n",
       "<style scoped>\n",
       "    .dataframe tbody tr th:only-of-type {\n",
       "        vertical-align: middle;\n",
       "    }\n",
       "\n",
       "    .dataframe tbody tr th {\n",
       "        vertical-align: top;\n",
       "    }\n",
       "\n",
       "    .dataframe thead th {\n",
       "        text-align: right;\n",
       "    }\n",
       "</style>\n",
       "<table border=\"1\" class=\"dataframe\">\n",
       "  <thead>\n",
       "    <tr style=\"text-align: right;\">\n",
       "      <th></th>\n",
       "      <th>Погашен</th>\n",
       "      <th>Дефолт</th>\n",
       "    </tr>\n",
       "    <tr>\n",
       "      <th>group</th>\n",
       "      <th></th>\n",
       "      <th></th>\n",
       "    </tr>\n",
       "  </thead>\n",
       "  <tbody>\n",
       "    <tr>\n",
       "      <th>A</th>\n",
       "      <td>153</td>\n",
       "      <td>188</td>\n",
       "    </tr>\n",
       "    <tr>\n",
       "      <th>B</th>\n",
       "      <td>50</td>\n",
       "      <td>291</td>\n",
       "    </tr>\n",
       "  </tbody>\n",
       "</table>\n",
       "</div>"
      ],
      "text/plain": [
       "       Погашен  Дефолт\n",
       "group                 \n",
       "A          153     188\n",
       "B           50     291"
      ]
     },
     "execution_count": 3,
     "metadata": {},
     "output_type": "execute_result"
    }
   ],
   "source": [
    "# Контингентная таблица\n",
    "contingency = pd.crosstab(loans['group'], loans['is_default'])\n",
    "contingency.columns = ['Погашен', 'Дефолт']\n",
    "contingency\n"
   ]
  },
  {
   "cell_type": "markdown",
   "id": "9b1d56d0",
   "metadata": {},
   "source": [
    "## Проведение хи-квадрат теста независимости\n"
   ]
  },
  {
   "cell_type": "code",
   "execution_count": 4,
   "id": "1d38063e",
   "metadata": {},
   "outputs": [
    {
     "name": "stdout",
     "output_type": "stream",
     "text": [
      "Chi² = 72.97\n",
      "p-value = 0.0000\n",
      "Вывод: статистически значимое различие между группами есть (отвергаем H0).\n"
     ]
    }
   ],
   "source": [
    "# Хи-квадрат тест\n",
    "chi2, p, dof, expected = chi2_contingency(contingency)\n",
    "\n",
    "print(f\"Chi² = {chi2:.2f}\")\n",
    "print(f\"p-value = {p:.4f}\")\n",
    "\n",
    "if p < 0.05:\n",
    "    print(\"Вывод: статистически значимое различие между группами есть (отвергаем H0).\")\n",
    "else:\n",
    "    print(\"Вывод: статистически значимого различия не обнаружено (не отвергаем H0).\")\n"
   ]
  },
  {
   "cell_type": "code",
   "execution_count": 7,
   "id": "21dbdb52",
   "metadata": {},
   "outputs": [
    {
     "data": {
      "image/png": "[encoded data removed]",
      "text/plain": [
       "<Figure size 432x288 with 1 Axes>"
      ]
     },
     "metadata": {},
     "output_type": "display_data"
    }
   ],
   "source": [
    "plt.figure(figsize=(6, 4))\n",
    "sns.barplot(\n",
    "    data=loans,\n",
    "    x='group', y='is_default',\n",
    "    estimator=np.mean, ci=95, palette='Set2'\n",
    ")\n",
    "plt.title('Процент дефолтов по группам A и B')\n",
    "plt.ylabel('Доля дефолтов')\n",
    "plt.xlabel('Группа по сумме кредита')\n",
    "plt.show()\n"
   ]
  },
  {
   "cell_type": "markdown",
   "id": "01371cdf",
   "metadata": {},
   "source": [
    "## Заключение\n",
    "\n",
    "Мы сравнили вероятность дефолта для клиентов с меньшими и большими суммами кредита, и получили, что различие между группами статистически значимо.  \n",
    "Этот анализ может использоваться для корректировки кредитной политики и оценки рисков.\n",
    "\n",
    "---\n",
    "\n",
    "## 💼 Контактная информация\n",
    "Если вы хотите обсудить различные задачи, запросы или проекты, предложить кейс или сотрудничество — обязательно напишите мне!\n",
    "\n",
    "- 📫 [t.me/marashot96](https://t.me/marashot96)\n",
    "- 🌐 [marashot96@ya.ru](mailto:marashot96@ya.ru)\n",
    "\n",
    "| <div align=\"left\"> <a href=\"https://github.com/marashot96/Credit-Products-Analysis/blob/main/notebooks/Navigator.md\">🔙 Назад к Jupyter-notebooks </a>  </div> | | <div align=\"center\">  <a href=\"https://github.com/marashot96/portfolio/blob/main/README.md#-реализованные-проекты\">🔙 Мое полное портфолио </a> </div> | | <div align=\"right\"> <a href=\"https://github.com/marashot96/Credit-Products-Analysis?tab=readme-ov-file#-czech-bank-project--\">🔙 Назад к описанию проекта </a>  </div> |\n",
    "| ---- | -------- | ----- | ---------------- | ------ |"
   ]
  },
  {
   "cell_type": "code",
   "execution_count": null,
   "id": "8562ac04",
   "metadata": {},
   "outputs": [],
   "source": []
  }
 ],
 "metadata": {
  "kernelspec": {
   "display_name": "Python 3 (ipykernel)",
   "language": "python",
   "name": "python3"
  },
  "language_info": {
   "codemirror_mode": {
    "name": "ipython",
    "version": 3
   },
   "file_extension": ".py",
   "mimetype": "text/x-python",
   "name": "python",
   "nbconvert_exporter": "python",
   "pygments_lexer": "ipython3",
   "version": "3.9.7"
  }
 },
 "nbformat": 4,
 "nbformat_minor": 5
}
